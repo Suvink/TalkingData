{
 "cells": [
  {
   "cell_type": "markdown",
   "metadata": {},
   "source": [
    "```\n",
    "Methodology:\n",
    "\n",
    "\n",
    "```"
   ]
  },
  {
   "cell_type": "code",
   "execution_count": 1,
   "metadata": {},
   "outputs": [
    {
     "name": "stdout",
     "output_type": "stream",
     "text": [
      "Libraries have been loaded\n"
     ]
    }
   ],
   "source": [
    "%matplotlib inline\n",
    "\n",
    "import pandas as pd\n",
    "import numpy as np\n",
    "import os\n",
    "import gc\n",
    "import pickle\n",
    "import re\n",
    "import feather\n",
    "\n",
    "import matplotlib.pyplot as plt\n",
    "import seaborn as sns\n",
    "\n",
    "SEED = 1982\n",
    "np.random.seed(SEED)\n",
    "\n",
    "import warnings\n",
    "warnings.filterwarnings('ignore')\n",
    "\n",
    "sns.set(context='talk', style='ticks')\n",
    "print('Libraries have been loaded')"
   ]
  },
  {
   "cell_type": "markdown",
   "metadata": {},
   "source": [
    "## Load Additional Libraries"
   ]
  },
  {
   "cell_type": "code",
   "execution_count": 14,
   "metadata": {},
   "outputs": [],
   "source": [
    "import scipy as sp\n",
    "\n",
    "from sklearn.model_selection import train_test_split\n",
    "from sklearn.linear_model import LogisticRegression\n",
    "from sklearn.metrics import log_loss\n",
    "from sklearn.feature_extraction.text import CountVectorizer\n",
    "from sklearn.preprocessing import scale\n",
    "from sklearn.preprocessing import LabelEncoder\n",
    "\n",
    "basepath = os.path.expanduser('/home/ubuntu/TalkingData/')"
   ]
  },
  {
   "cell_type": "markdown",
   "metadata": {},
   "source": [
    "## Load Data"
   ]
  },
  {
   "cell_type": "code",
   "execution_count": 15,
   "metadata": {},
   "outputs": [
    {
     "name": "stdout",
     "output_type": "stream",
     "text": [
      "CPU times: user 256 ms, sys: 152 ms, total: 408 ms\n",
      "Wall time: 291 ms\n"
     ]
    }
   ],
   "source": [
    "%%time\n",
    "\n",
    "TRAIN_FILEPATH = 'data/processed/folds/trv1.feather'\n",
    "TEST_FILEPATH  = 'data/processed/folds/valv1.feather'\n",
    "\n",
    "gatrain     = pd.read_feather(os.path.join(basepath, TRAIN_FILEPATH))\n",
    "gatest      = pd.read_feather(os.path.join(basepath, TEST_FILEPATH))\n",
    "phone       = pd.read_feather(os.path.join(basepath, 'data/processed/phone_brand_device_model.feather')) \n",
    "appevents   = pd.read_feather(os.path.join(basepath, 'data/processed/app_events.feather'))\n",
    "applabels   = pd.read_feather(os.path.join(basepath, 'data/processed/app_labels.feather'))\n",
    "events      = pd.read_feather(os.path.join(basepath, 'data/processed/events.feather'))\n",
    "\n",
    "phone       = phone.drop_duplicates('device_id', keep='first')\n",
    "\n",
    "# set correct index values\n",
    "gatrain = gatrain.set_index('device_id')\n",
    "gatest  = gatest.set_index('device_id')\n",
    "\n",
    "phone   = phone.set_index('device_id')\n",
    "events  = events.set_index('event_id')"
   ]
  },
  {
   "cell_type": "code",
   "execution_count": 16,
   "metadata": {},
   "outputs": [],
   "source": [
    "# column to represent train or test row a particular device id belongs to\n",
    "gatrain['trainrow'] = np.arange(gatrain.shape[0])\n",
    "gatest['testrow']   = np.arange(gatest.shape[0])"
   ]
  },
  {
   "cell_type": "code",
   "execution_count": 17,
   "metadata": {},
   "outputs": [
    {
     "name": "stdout",
     "output_type": "stream",
     "text": [
      "Brand features: train shape (55983, 131), test shape (18662, 131)\n"
     ]
    }
   ],
   "source": [
    "brandencoder   = LabelEncoder().fit(phone.phone_brand)\n",
    "phone['brand'] = brandencoder.transform(phone['phone_brand'])\n",
    "\n",
    "gatrain['brand'] = phone['brand']\n",
    "gatest['brand']  = phone['brand']\n",
    "\n",
    "Xtr_brand = sp.sparse.csr_matrix((np.ones(gatrain.shape[0]), \n",
    "                       (gatrain.trainrow, gatrain.brand)))\n",
    "\n",
    "Xte_brand = sp.sparse.csr_matrix((np.ones(gatest.shape[0]), \n",
    "                       (gatest.testrow, gatest.brand)))\n",
    "\n",
    "print('Brand features: train shape {}, test shape {}'.format(Xtr_brand.shape, Xte_brand.shape))"
   ]
  },
  {
   "cell_type": "code",
   "execution_count": 18,
   "metadata": {},
   "outputs": [
    {
     "name": "stdout",
     "output_type": "stream",
     "text": [
      "Model features: train shape (55983, 1667), test shape (18662, 1667)\n"
     ]
    }
   ],
   "source": [
    "m            = phone.phone_brand.str.cat(phone.device_model)\n",
    "modelencoder = LabelEncoder().fit(m)\n",
    "phone['model']   = modelencoder.transform(m)\n",
    "\n",
    "gatrain['model'] = phone['model']\n",
    "gatest['model']  = phone['model']\n",
    "\n",
    "Xtr_model = sp.sparse.csr_matrix((np.ones(gatrain.shape[0]), \n",
    "                       (gatrain.trainrow, gatrain.model)))\n",
    "\n",
    "Xte_model = sp.sparse.csr_matrix((np.ones(gatest.shape[0]), \n",
    "                       (gatest.testrow, gatest.model)))\n",
    "\n",
    "print('Model features: train shape {}, test shape {}'.format(Xtr_model.shape, Xte_model.shape))"
   ]
  },
  {
   "cell_type": "code",
   "execution_count": 23,
   "metadata": {},
   "outputs": [
    {
     "data": {
      "text/html": [
       "<div>\n",
       "<style scoped>\n",
       "    .dataframe tbody tr th:only-of-type {\n",
       "        vertical-align: middle;\n",
       "    }\n",
       "\n",
       "    .dataframe tbody tr th {\n",
       "        vertical-align: top;\n",
       "    }\n",
       "\n",
       "    .dataframe thead th {\n",
       "        text-align: right;\n",
       "    }\n",
       "</style>\n",
       "<table border=\"1\" class=\"dataframe\">\n",
       "  <thead>\n",
       "    <tr style=\"text-align: right;\">\n",
       "      <th></th>\n",
       "      <th>device_id</th>\n",
       "      <th>app</th>\n",
       "      <th>size</th>\n",
       "      <th>trainrow</th>\n",
       "      <th>testrow</th>\n",
       "    </tr>\n",
       "  </thead>\n",
       "  <tbody>\n",
       "    <tr>\n",
       "      <th>0</th>\n",
       "      <td>-9222956879900151005</td>\n",
       "      <td>548</td>\n",
       "      <td>18</td>\n",
       "      <td>15257.0</td>\n",
       "      <td>NaN</td>\n",
       "    </tr>\n",
       "    <tr>\n",
       "      <th>1</th>\n",
       "      <td>-9222956879900151005</td>\n",
       "      <td>1096</td>\n",
       "      <td>18</td>\n",
       "      <td>15257.0</td>\n",
       "      <td>NaN</td>\n",
       "    </tr>\n",
       "    <tr>\n",
       "      <th>2</th>\n",
       "      <td>-9222956879900151005</td>\n",
       "      <td>1248</td>\n",
       "      <td>26</td>\n",
       "      <td>15257.0</td>\n",
       "      <td>NaN</td>\n",
       "    </tr>\n",
       "    <tr>\n",
       "      <th>3</th>\n",
       "      <td>-9222956879900151005</td>\n",
       "      <td>1545</td>\n",
       "      <td>12</td>\n",
       "      <td>15257.0</td>\n",
       "      <td>NaN</td>\n",
       "    </tr>\n",
       "    <tr>\n",
       "      <th>4</th>\n",
       "      <td>-9222956879900151005</td>\n",
       "      <td>1664</td>\n",
       "      <td>18</td>\n",
       "      <td>15257.0</td>\n",
       "      <td>NaN</td>\n",
       "    </tr>\n",
       "  </tbody>\n",
       "</table>\n",
       "</div>"
      ],
      "text/plain": [
       "             device_id   app  size  trainrow  testrow\n",
       "0 -9222956879900151005   548    18   15257.0      NaN\n",
       "1 -9222956879900151005  1096    18   15257.0      NaN\n",
       "2 -9222956879900151005  1248    26   15257.0      NaN\n",
       "3 -9222956879900151005  1545    12   15257.0      NaN\n",
       "4 -9222956879900151005  1664    18   15257.0      NaN"
      ]
     },
     "execution_count": 23,
     "metadata": {},
     "output_type": "execute_result"
    }
   ],
   "source": [
    "appencoder       = LabelEncoder().fit(appevents.app_id)\n",
    "appevents['app'] = appencoder.transform(appevents.app_id)\n",
    "napps = len(appencoder.classes_)\n",
    "\n",
    "deviceapps = (appevents.merge(events[['device_id']], how='left',left_on='event_id',right_index=True)\n",
    "                       .groupby(['device_id','app'])['app'].agg(['size'])\n",
    "                       .merge(gatrain[['trainrow']], how='left', left_index=True, right_index=True)\n",
    "                       .merge(gatest[['testrow']], how='left', left_index=True, right_index=True)\n",
    "                       .reset_index())\n",
    "deviceapps.head()"
   ]
  },
  {
   "cell_type": "code",
   "execution_count": 24,
   "metadata": {},
   "outputs": [
    {
     "name": "stdout",
     "output_type": "stream",
     "text": [
      "Apps data: train shape (55983, 19237), test shape (18662, 19237)\n"
     ]
    }
   ],
   "source": [
    "d = deviceapps.dropna(subset=['trainrow'])\n",
    "Xtr_app = sp.sparse.csr_matrix((np.ones(d.shape[0]), (d.trainrow, d.app)), \n",
    "                      shape=(gatrain.shape[0],napps))\n",
    "\n",
    "d = deviceapps.dropna(subset=['testrow'])\n",
    "Xte_app = sp.sparse.csr_matrix((np.ones(d.shape[0]), (d.testrow, d.app)), \n",
    "                      shape=(gatest.shape[0],napps))\n",
    "\n",
    "print('Apps data: train shape {}, test shape {}'.format(Xtr_app.shape, Xte_app.shape))"
   ]
  },
  {
   "cell_type": "code",
   "execution_count": 25,
   "metadata": {},
   "outputs": [],
   "source": [
    "applabels        = applabels.loc[applabels.app_id.isin(appevents.app_id.unique())]\n",
    "applabels['app'] = appencoder.transform(applabels.app_id)\n",
    "\n",
    "labelencoder       = LabelEncoder().fit(applabels.label_id)\n",
    "applabels['label'] = labelencoder.transform(applabels.label_id)\n",
    "\n",
    "nlabels = len(labelencoder.classes_)"
   ]
  },
  {
   "cell_type": "code",
   "execution_count": 26,
   "metadata": {},
   "outputs": [
    {
     "data": {
      "text/html": [
       "<div>\n",
       "<style scoped>\n",
       "    .dataframe tbody tr th:only-of-type {\n",
       "        vertical-align: middle;\n",
       "    }\n",
       "\n",
       "    .dataframe tbody tr th {\n",
       "        vertical-align: top;\n",
       "    }\n",
       "\n",
       "    .dataframe thead th {\n",
       "        text-align: right;\n",
       "    }\n",
       "</style>\n",
       "<table border=\"1\" class=\"dataframe\">\n",
       "  <thead>\n",
       "    <tr style=\"text-align: right;\">\n",
       "      <th></th>\n",
       "      <th>device_id</th>\n",
       "      <th>label</th>\n",
       "      <th>size</th>\n",
       "      <th>trainrow</th>\n",
       "      <th>testrow</th>\n",
       "    </tr>\n",
       "  </thead>\n",
       "  <tbody>\n",
       "    <tr>\n",
       "      <th>0</th>\n",
       "      <td>-9222956879900151005</td>\n",
       "      <td>117</td>\n",
       "      <td>1</td>\n",
       "      <td>15257.0</td>\n",
       "      <td>NaN</td>\n",
       "    </tr>\n",
       "    <tr>\n",
       "      <th>1</th>\n",
       "      <td>-9222956879900151005</td>\n",
       "      <td>120</td>\n",
       "      <td>1</td>\n",
       "      <td>15257.0</td>\n",
       "      <td>NaN</td>\n",
       "    </tr>\n",
       "    <tr>\n",
       "      <th>2</th>\n",
       "      <td>-9222956879900151005</td>\n",
       "      <td>126</td>\n",
       "      <td>1</td>\n",
       "      <td>15257.0</td>\n",
       "      <td>NaN</td>\n",
       "    </tr>\n",
       "    <tr>\n",
       "      <th>3</th>\n",
       "      <td>-9222956879900151005</td>\n",
       "      <td>138</td>\n",
       "      <td>2</td>\n",
       "      <td>15257.0</td>\n",
       "      <td>NaN</td>\n",
       "    </tr>\n",
       "    <tr>\n",
       "      <th>4</th>\n",
       "      <td>-9222956879900151005</td>\n",
       "      <td>147</td>\n",
       "      <td>2</td>\n",
       "      <td>15257.0</td>\n",
       "      <td>NaN</td>\n",
       "    </tr>\n",
       "  </tbody>\n",
       "</table>\n",
       "</div>"
      ],
      "text/plain": [
       "             device_id  label  size  trainrow  testrow\n",
       "0 -9222956879900151005    117     1   15257.0      NaN\n",
       "1 -9222956879900151005    120     1   15257.0      NaN\n",
       "2 -9222956879900151005    126     1   15257.0      NaN\n",
       "3 -9222956879900151005    138     2   15257.0      NaN\n",
       "4 -9222956879900151005    147     2   15257.0      NaN"
      ]
     },
     "execution_count": 26,
     "metadata": {},
     "output_type": "execute_result"
    }
   ],
   "source": [
    "devicelabels = (deviceapps[['device_id','app']]\n",
    "                .merge(applabels[['app','label']])\n",
    "                .groupby(['device_id','label'])['app'].agg(['size'])\n",
    "                .merge(gatrain[['trainrow']], how='left', left_index=True, right_index=True)\n",
    "                .merge(gatest[['testrow']], how='left', left_index=True, right_index=True)\n",
    "                .reset_index())\n",
    "\n",
    "devicelabels.head()"
   ]
  },
  {
   "cell_type": "code",
   "execution_count": 28,
   "metadata": {},
   "outputs": [
    {
     "name": "stdout",
     "output_type": "stream",
     "text": [
      "Labels data: train shape (55983, 492), test shape (18662, 492)\n"
     ]
    }
   ],
   "source": [
    "d = devicelabels.dropna(subset=['trainrow'])\n",
    "Xtr_label = sp.sparse.csr_matrix((np.ones(d.shape[0]), (d.trainrow, d.label)), \n",
    "                      shape=(gatrain.shape[0],nlabels))\n",
    "\n",
    "d = devicelabels.dropna(subset=['testrow'])\n",
    "Xte_label = sp.sparse.csr_matrix((np.ones(d.shape[0]), (d.testrow, d.label)), \n",
    "                      shape=(gatest.shape[0],nlabels))\n",
    "\n",
    "print('Labels data: train shape {}, test shape {}'.format(Xtr_label.shape, Xte_label.shape))"
   ]
  },
  {
   "cell_type": "code",
   "execution_count": 52,
   "metadata": {},
   "outputs": [],
   "source": [
    "# device related features\n",
    "traintest = pd.concat((gatrain, gatest))\n",
    "\n",
    "brand_freq      = traintest.groupby('brand')['brand'].transform(lambda x: len(x))\n",
    "model_freq      = traintest.groupby('model')['model'].transform(lambda x: len(x))\n",
    "\n",
    "num_diff_models = traintest.groupby('brand').apply(lambda x: x['model'].nunique())\n",
    "num_diff_models = traintest.brand.map(num_diff_models)\n",
    "\n",
    "Xtr_other = pd.DataFrame(index=gatrain.index)\n",
    "Xte_other = pd.DataFrame(index=gatest.index)\n",
    "\n",
    "Xtr_other['brand_freq'] = brand_freq\n",
    "Xte_other['brand_freq'] = brand_freq\n",
    "\n",
    "Xtr_other['model_freq'] = model_freq\n",
    "Xte_other['model_freq'] = model_freq\n",
    "\n",
    "Xtr_other['num_diff_models'] = num_diff_models\n",
    "Xte_other['num_diff_models'] = num_diff_models\n",
    "\n",
    "traintest = pd.concat((Xtr_other, Xte_other))\n",
    "traintest = scale(traintest)\n",
    "\n",
    "Xtr_other = traintest[:len(Xtr_other)]\n",
    "Xte_other = traintest[len(Xtr_other):]"
   ]
  },
  {
   "cell_type": "code",
   "execution_count": 84,
   "metadata": {},
   "outputs": [
    {
     "name": "stdout",
     "output_type": "stream",
     "text": [
      "CPU times: user 2min 50s, sys: 1.16 s, total: 2min 51s\n",
      "Wall time: 2min 44s\n"
     ]
    }
   ],
   "source": [
    "%%time\n",
    "\n",
    "traintest = pd.concat((gatrain, gatest))\n",
    "\n",
    "# most_generated_event\n",
    "most_generated_event = events.reset_index().groupby('device_id')\\\n",
    "                             .apply(lambda x: x['event_id'].value_counts().index.values[0])\n",
    "most_generated_event = traintest.reset_index().device_id.map(most_generated_event).fillna(-1)\n",
    "most_generated_event.index = traintest.reset_index().device_id\n",
    "\n",
    "# hour with most number of events by device\n",
    "hour_with_most_events = events.groupby('device_id')\\\n",
    "                              .apply(lambda x: x['timestamp'].dt.hour.value_counts().index.values[0])\n",
    "hour_with_most_events = traintest.reset_index().device_id.map(hour_with_most_events).fillna(-1)\n",
    "hour_with_most_events.index = traintest.reset_index().device_id\n",
    "\n",
    "# number of different hours at which events were generated\n",
    "num_diff_hours = events.reset_index().groupby('device_id').apply(lambda x: x['timestamp'].dt.hour.nunique())\n",
    "num_diff_hours = traintest.reset_index().device_id.map(num_diff_hours).fillna(0)\n",
    "num_diff_hours.index = traintest.reset_index().device_id\n",
    "\n",
    "# number of events generated by a device\n",
    "num_events  = events.reset_index().device_id.value_counts()\n",
    "num_events  = traintest.reset_index().device_id.map(num_events).fillna(0)\n",
    "num_events.index = traintest.reset_index().device_id\n",
    "\n",
    "# number of different locations from where events were generated by device.\n",
    "num_diff_locations = events.reset_index().groupby('device_id').apply(lambda x: x.loc[:, ['longitude', 'latitude']].drop_duplicates().shape[0])\n",
    "num_diff_locations = traintest.reset_index().device_id.map(num_diff_locations).fillna(-1)\n",
    "num_diff_locations.index = traintest.reset_index().device_id\n",
    "\n",
    "\n",
    "Xtr_events = pd.DataFrame(index=gatrain.index)\n",
    "Xte_events = pd.DataFrame(index=gatest.index)\n",
    "\n",
    "Xtr_events['most_generated_event'] = most_generated_event\n",
    "Xte_events['most_generated_event'] = most_generated_event\n",
    "\n",
    "Xtr_events['hour_with_most_events'] = hour_with_most_events\n",
    "Xte_events['hour_with_most_events'] = hour_with_most_events\n",
    "\n",
    "Xtr_events['num_diff_hours'] = num_diff_hours\n",
    "Xte_events['num_diff_hours'] = num_diff_hours\n",
    "\n",
    "Xtr_events['num_events'] = num_events\n",
    "Xte_events['num_events'] = num_events\n",
    "\n",
    "Xtr_events['num_diff_locations'] = num_diff_locations\n",
    "Xte_events['num_diff_locations'] = num_diff_locations\n",
    "\n",
    "traintest = pd.concat((Xtr_events, Xte_events))\n",
    "traintest = scale(traintest)\n",
    "\n",
    "Xtr_events = traintest[:len(Xtr_events)]\n",
    "Xte_events = traintest[len(Xtr_events):]"
   ]
  },
  {
   "cell_type": "code",
   "execution_count": 85,
   "metadata": {},
   "outputs": [
    {
     "name": "stdout",
     "output_type": "stream",
     "text": [
      "All features: train shape (55983, 21535), test shape (18662, 21535)\n"
     ]
    }
   ],
   "source": [
    "Xtrain = sp.sparse.hstack((Xtr_brand, Xtr_model, Xtr_app, Xtr_label, Xtr_other, Xtr_events), format='csr')\n",
    "Xtest =  sp.sparse.hstack((Xte_brand, Xte_model, Xte_app, Xte_label, Xte_other, Xte_events), format='csr')\n",
    "\n",
    "print('All features: train shape {}, test shape {}'.format(Xtrain.shape, Xtest.shape))"
   ]
  },
  {
   "cell_type": "code",
   "execution_count": 86,
   "metadata": {},
   "outputs": [],
   "source": [
    "targetencoder = LabelEncoder().fit(gatrain.group.tolist() + gatest.group.tolist())\n",
    "y_train       = targetencoder.transform(gatrain.group)\n",
    "y_val         = targetencoder.transform(gatest.group)\n",
    "\n",
    "nclasses = len(targetencoder.classes_)"
   ]
  },
  {
   "cell_type": "code",
   "execution_count": 91,
   "metadata": {},
   "outputs": [
    {
     "name": "stdout",
     "output_type": "stream",
     "text": [
      "Log loss: 2.2693569944989056\n"
     ]
    }
   ],
   "source": [
    "m = LogisticRegression(C=.02, solver='lbfgs', multi_class='multinomial', n_jobs=-1, random_state=SEED)\n",
    "m.fit(Xtrain, y_train)\n",
    "\n",
    "val_preds = m.predict_proba(Xtest)\n",
    "print('Log loss: {}'.format(log_loss(y_val, val_preds)))"
   ]
  },
  {
   "cell_type": "markdown",
   "metadata": {},
   "source": [
    "** Creating separate models for devices that have generated events vs devices that have generated event leads to lower log loss. **"
   ]
  }
 ],
 "metadata": {
  "kernelspec": {
   "display_name": "Python 3",
   "language": "python",
   "name": "python3"
  },
  "language_info": {
   "codemirror_mode": {
    "name": "ipython",
    "version": 3
   },
   "file_extension": ".py",
   "mimetype": "text/x-python",
   "name": "python",
   "nbconvert_exporter": "python",
   "pygments_lexer": "ipython3",
   "version": "3.6.5"
  }
 },
 "nbformat": 4,
 "nbformat_minor": 2
}
